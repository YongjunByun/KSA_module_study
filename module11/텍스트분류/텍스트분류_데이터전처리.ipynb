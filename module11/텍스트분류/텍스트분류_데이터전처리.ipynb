{
  "nbformat": 4,
  "nbformat_minor": 0,
  "metadata": {
    "colab": {
      "name": "텍스트분류 데이터전처리.ipynb",
      "provenance": [],
      "authorship_tag": "ABX9TyN2coavAwOu6Trtg/50MDkL",
      "include_colab_link": true
    },
    "kernelspec": {
      "name": "python3",
      "display_name": "Python 3"
    },
    "language_info": {
      "name": "python"
    },
    "accelerator": "GPU"
  },
  "cells": [
    {
      "cell_type": "markdown",
      "metadata": {
        "id": "view-in-github",
        "colab_type": "text"
      },
      "source": [
        "<a href=\"https://colab.research.google.com/github/YongjunByun/KSA_projects/blob/main/module11/%ED%85%8D%EC%8A%A4%ED%8A%B8%EB%B6%84%EB%A5%98/%ED%85%8D%EC%8A%A4%ED%8A%B8%EB%B6%84%EB%A5%98_%EB%8D%B0%EC%9D%B4%ED%84%B0%EC%A0%84%EC%B2%98%EB%A6%AC.ipynb\" target=\"_parent\"><img src=\"https://colab.research.google.com/assets/colab-badge.svg\" alt=\"Open In Colab\"/></a>"
      ]
    },
    {
      "cell_type": "code",
      "metadata": {
        "id": "eGtWmHtkTjzZ"
      },
      "source": [
        "max_length = 256"
      ],
      "execution_count": 1,
      "outputs": []
    },
    {
      "cell_type": "code",
      "metadata": {
        "id": "hu3U_V60VNbm"
      },
      "source": [
        "import pandas as pd"
      ],
      "execution_count": 2,
      "outputs": []
    },
    {
      "cell_type": "code",
      "metadata": {
        "colab": {
          "base_uri": "https://localhost:8080/"
        },
        "id": "avRCZjWLVQdH",
        "outputId": "65858a8f-8a44-4a59-9c4d-d90e0ceae29e"
      },
      "source": [
        "df = pd.read_csv('sms.tsv', sep='\\t', )\n",
        "df.columns = ['label', 'sms']\n",
        "print(df.columns)\n",
        "print(df.shape)"
      ],
      "execution_count": 15,
      "outputs": [
        {
          "output_type": "stream",
          "text": [
            "Index(['label', 'sms'], dtype='object')\n",
            "(5574, 2)\n"
          ],
          "name": "stdout"
        }
      ]
    },
    {
      "cell_type": "code",
      "metadata": {
        "colab": {
          "base_uri": "https://localhost:8080/",
          "height": 204
        },
        "id": "L83nkfF3Vcg6",
        "outputId": "cb966f38-d1ba-4d60-bc35-0c0c656a3936"
      },
      "source": [
        "df.head()"
      ],
      "execution_count": 16,
      "outputs": [
        {
          "output_type": "execute_result",
          "data": {
            "text/html": [
              "<div>\n",
              "<style scoped>\n",
              "    .dataframe tbody tr th:only-of-type {\n",
              "        vertical-align: middle;\n",
              "    }\n",
              "\n",
              "    .dataframe tbody tr th {\n",
              "        vertical-align: top;\n",
              "    }\n",
              "\n",
              "    .dataframe thead th {\n",
              "        text-align: right;\n",
              "    }\n",
              "</style>\n",
              "<table border=\"1\" class=\"dataframe\">\n",
              "  <thead>\n",
              "    <tr style=\"text-align: right;\">\n",
              "      <th></th>\n",
              "      <th>label</th>\n",
              "      <th>sms</th>\n",
              "    </tr>\n",
              "  </thead>\n",
              "  <tbody>\n",
              "    <tr>\n",
              "      <th>0</th>\n",
              "      <td>ham</td>\n",
              "      <td>Ok lar... Joking wif u oni...</td>\n",
              "    </tr>\n",
              "    <tr>\n",
              "      <th>1</th>\n",
              "      <td>spam</td>\n",
              "      <td>Free entry in 2 a wkly comp to win FA Cup fina...</td>\n",
              "    </tr>\n",
              "    <tr>\n",
              "      <th>2</th>\n",
              "      <td>spam</td>\n",
              "      <td>%^^×？×^×&amp;#****,&gt;,;//×&amp;&gt;&gt;*(*^%=÷#~^&amp;,****)</td>\n",
              "    </tr>\n",
              "    <tr>\n",
              "      <th>3</th>\n",
              "      <td>ham</td>\n",
              "      <td>U dun say so early hor... U c already then say...</td>\n",
              "    </tr>\n",
              "    <tr>\n",
              "      <th>4</th>\n",
              "      <td>ham</td>\n",
              "      <td>Nah I don't think he goes to usf, he lives aro...</td>\n",
              "    </tr>\n",
              "  </tbody>\n",
              "</table>\n",
              "</div>"
            ],
            "text/plain": [
              "  label                                                sms\n",
              "0   ham                      Ok lar... Joking wif u oni...\n",
              "1  spam  Free entry in 2 a wkly comp to win FA Cup fina...\n",
              "2  spam          %^^×？×^×&#****,>,;//×&>>*(*^%=÷#~^&,****)\n",
              "3   ham  U dun say so early hor... U c already then say...\n",
              "4   ham  Nah I don't think he goes to usf, he lives aro..."
            ]
          },
          "metadata": {
            "tags": []
          },
          "execution_count": 16
        }
      ]
    },
    {
      "cell_type": "code",
      "metadata": {
        "colab": {
          "base_uri": "https://localhost:8080/"
        },
        "id": "dfuzmQNgVfR-",
        "outputId": "c1ae966c-c146-4b43-9adf-062284f8ffb5"
      },
      "source": [
        "# 클래스 파악\n",
        "classes = sorted(set(df['label']))\n",
        "class_to_idx = {}\n",
        "\n",
        "for i, c in enumerate(classes): # 모든 클래스에 대해  \n",
        "  class_to_idx.update({c: i})\n",
        "\n",
        "nclass = len(classes)\n",
        "\n",
        "print(\"# of classes: %d\" %nclass)\n",
        "print(classes)\n",
        "print(class_to_idx)"
      ],
      "execution_count": 17,
      "outputs": [
        {
          "output_type": "stream",
          "text": [
            "# of classes: 2\n",
            "['ham', 'spam']\n",
            "{'ham': 0, 'spam': 1}\n"
          ],
          "name": "stdout"
        }
      ]
    },
    {
      "cell_type": "code",
      "metadata": {
        "id": "imruGUGQWAFU"
      },
      "source": [
        "# 최대 텍스트 길이 만큼 자르기\n",
        "new_df = pd.DataFrame({'label' : df['label'],\n",
        "                       'sms' : df['sms'].str.slice(\n",
        "                           start=0,stop=max_length)\n",
        "                       })"
      ],
      "execution_count": 18,
      "outputs": []
    },
    {
      "cell_type": "code",
      "metadata": {
        "colab": {
          "base_uri": "https://localhost:8080/"
        },
        "id": "LLG5yHcvc8gv",
        "outputId": "ededf5eb-c258-4594-e5a1-2f007bd73de3"
      },
      "source": [
        "len(new_df)"
      ],
      "execution_count": 20,
      "outputs": [
        {
          "output_type": "execute_result",
          "data": {
            "text/plain": [
              "5574"
            ]
          },
          "metadata": {
            "tags": []
          },
          "execution_count": 20
        }
      ]
    },
    {
      "cell_type": "code",
      "metadata": {
        "id": "n74X-8k2c-2n"
      },
      "source": [
        "# 중복제거\n",
        "new_df = pd.DataFrame(new_df.drop_duplicates())"
      ],
      "execution_count": 21,
      "outputs": []
    },
    {
      "cell_type": "code",
      "metadata": {
        "colab": {
          "base_uri": "https://localhost:8080/"
        },
        "id": "RYu_eh5gdTbe",
        "outputId": "7cb59175-f2e7-4cfe-a5a0-f4b641bd9493"
      },
      "source": [
        "len(new_df)"
      ],
      "execution_count": 22,
      "outputs": [
        {
          "output_type": "execute_result",
          "data": {
            "text/plain": [
              "5171"
            ]
          },
          "metadata": {
            "tags": []
          },
          "execution_count": 22
        }
      ]
    },
    {
      "cell_type": "code",
      "metadata": {
        "colab": {
          "base_uri": "https://localhost:8080/",
          "height": 204
        },
        "id": "Eqgm0bmudUhA",
        "outputId": "eacd877b-4632-4a6a-840b-e9099037b9a2"
      },
      "source": [
        "# 셔플\n",
        "df_shuffled = new_df.sample(frac=1).reset_index(drop=True)\n",
        "df_shuffled.head()"
      ],
      "execution_count": 23,
      "outputs": [
        {
          "output_type": "execute_result",
          "data": {
            "text/html": [
              "<div>\n",
              "<style scoped>\n",
              "    .dataframe tbody tr th:only-of-type {\n",
              "        vertical-align: middle;\n",
              "    }\n",
              "\n",
              "    .dataframe tbody tr th {\n",
              "        vertical-align: top;\n",
              "    }\n",
              "\n",
              "    .dataframe thead th {\n",
              "        text-align: right;\n",
              "    }\n",
              "</style>\n",
              "<table border=\"1\" class=\"dataframe\">\n",
              "  <thead>\n",
              "    <tr style=\"text-align: right;\">\n",
              "      <th></th>\n",
              "      <th>label</th>\n",
              "      <th>sms</th>\n",
              "    </tr>\n",
              "  </thead>\n",
              "  <tbody>\n",
              "    <tr>\n",
              "      <th>0</th>\n",
              "      <td>ham</td>\n",
              "      <td>Wa, ur openin sentence very formal... Anyway, ...</td>\n",
              "    </tr>\n",
              "    <tr>\n",
              "      <th>1</th>\n",
              "      <td>ham</td>\n",
              "      <td>Here got lots of hair dresser fr china.</td>\n",
              "    </tr>\n",
              "    <tr>\n",
              "      <th>2</th>\n",
              "      <td>ham</td>\n",
              "      <td>Not yet chikku..k, then wat abt tht guy did he...</td>\n",
              "    </tr>\n",
              "    <tr>\n",
              "      <th>3</th>\n",
              "      <td>ham</td>\n",
              "      <td>I will reach before ten morning</td>\n",
              "    </tr>\n",
              "    <tr>\n",
              "      <th>4</th>\n",
              "      <td>ham</td>\n",
              "      <td>S:)8 min to go for lunch:)</td>\n",
              "    </tr>\n",
              "  </tbody>\n",
              "</table>\n",
              "</div>"
            ],
            "text/plain": [
              "  label                                                sms\n",
              "0   ham  Wa, ur openin sentence very formal... Anyway, ...\n",
              "1   ham            Here got lots of hair dresser fr china.\n",
              "2   ham  Not yet chikku..k, then wat abt tht guy did he...\n",
              "3   ham                    I will reach before ten morning\n",
              "4   ham                         S:)8 min to go for lunch:)"
            ]
          },
          "metadata": {
            "tags": []
          },
          "execution_count": 23
        }
      ]
    },
    {
      "cell_type": "code",
      "metadata": {
        "colab": {
          "base_uri": "https://localhost:8080/"
        },
        "id": "Mobcc569dl9C",
        "outputId": "a528e44e-e8b1-49f8-ffb5-52fb907a9553"
      },
      "source": [
        "# train:test = 9:1\n",
        "# train:test = 540:60 -> train:valid:test = 432:108:60\n",
        "train_ratio  = 0.9\n",
        "\n",
        "#train dataset\n",
        "s, e = 0, int(df_shuffled.shape[0] * train_ratio) # # of rows\n",
        "df_train = pd.DataFrame({'label':df_shuffled['label'][s:e],\n",
        "                         'sms':df_shuffled['sms'][s:e]})\n",
        "print(\"index for train: %d~%d\" %(s,e))\n",
        "\n",
        "# test dataset\n",
        "s, e = e, e+int(df_shuffled.shape[0] * (1.0 - train_ratio))\n",
        "print(\"index for test: %d~%d\" %(s,e))\n",
        "df_test = pd.DataFrame({'label':df_shuffled['label'][s:e],\n",
        "                         'sms':df_shuffled['sms'][s:e]})"
      ],
      "execution_count": 24,
      "outputs": [
        {
          "output_type": "stream",
          "text": [
            "index for train: 0~4653\n",
            "index for test: 4653~5170\n"
          ],
          "name": "stdout"
        }
      ]
    },
    {
      "cell_type": "code",
      "metadata": {
        "colab": {
          "base_uri": "https://localhost:8080/"
        },
        "id": "pwTviHRMehud",
        "outputId": "3035dde6-04fe-43bd-85c0-eb18a4558e5f"
      },
      "source": [
        "print(df_train.shape)\n",
        "print(df_test.shape)"
      ],
      "execution_count": 25,
      "outputs": [
        {
          "output_type": "stream",
          "text": [
            "(4653, 2)\n",
            "(517, 2)\n"
          ],
          "name": "stdout"
        }
      ]
    },
    {
      "cell_type": "code",
      "metadata": {
        "id": "xJqKjzWfeoGE"
      },
      "source": [
        "df_train.to_csv('./sms.maxlen.uniq.shuf.train.tsv',\n",
        "                header=False, index=False, sep='\\t')\n",
        "df_test.to_csv('./sms.maxlen.uniq.shuf.test.tsv',\n",
        "                header=False, index=False, sep='\\t')"
      ],
      "execution_count": 26,
      "outputs": []
    },
    {
      "cell_type": "code",
      "metadata": {
        "id": "Woio5mEsfT_i"
      },
      "source": [
        ""
      ],
      "execution_count": null,
      "outputs": []
    }
  ]
}