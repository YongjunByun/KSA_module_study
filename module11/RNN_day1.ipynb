{
  "nbformat": 4,
  "nbformat_minor": 0,
  "metadata": {
    "colab": {
      "name": "RNN_day1.ipynb",
      "provenance": [],
      "authorship_tag": "ABX9TyOO+c/6MXU/n4yGI+9NuxJX",
      "include_colab_link": true
    },
    "kernelspec": {
      "name": "python3",
      "display_name": "Python 3"
    },
    "language_info": {
      "name": "python"
    },
    "accelerator": "GPU"
  },
  "cells": [
    {
      "cell_type": "markdown",
      "metadata": {
        "id": "view-in-github",
        "colab_type": "text"
      },
      "source": [
        "<a href=\"https://colab.research.google.com/github/YongjunByun/BitmapComb_with_OpenCV_on_MFC/blob/master/module11/RNN_day1.ipynb\" target=\"_parent\"><img src=\"https://colab.research.google.com/assets/colab-badge.svg\" alt=\"Open In Colab\"/></a>"
      ]
    },
    {
      "cell_type": "code",
      "metadata": {
        "id": "4owJNEKd4U3o"
      },
      "source": [
        "import torch"
      ],
      "execution_count": 2,
      "outputs": []
    },
    {
      "cell_type": "code",
      "metadata": {
        "id": "qCLFMxOv5J5f"
      },
      "source": [
        "def print_val(x):\n",
        "  print(x)"
      ],
      "execution_count": 7,
      "outputs": []
    },
    {
      "cell_type": "code",
      "metadata": {
        "colab": {
          "base_uri": "https://localhost:8080/"
        },
        "id": "u2lh993e4gYy",
        "outputId": "f3d6a59e-962c-4d8d-f341-c80c2373e944"
      },
      "source": [
        "x = torch.rand(2,3,2)\n",
        "print_val(x)\n",
        "\n",
        "x = torch.randn(2,3)\n",
        "print_val(x)"
      ],
      "execution_count": 8,
      "outputs": [
        {
          "output_type": "stream",
          "text": [
            "tensor([[[0.2260, 0.8845],\n",
            "         [0.5143, 0.9359],\n",
            "         [0.0552, 0.5812]],\n",
            "\n",
            "        [[0.0221, 0.7406],\n",
            "         [0.8955, 0.2124],\n",
            "         [0.6556, 0.4251]]])\n",
            "tensor([[ 0.4328,  1.8795, -0.4212],\n",
            "        [-0.7602,  0.8046, -0.5795]])\n"
          ],
          "name": "stdout"
        }
      ]
    },
    {
      "cell_type": "code",
      "metadata": {
        "id": "_4MnroB-4v9L"
      },
      "source": [
        ""
      ],
      "execution_count": null,
      "outputs": []
    }
  ]
}